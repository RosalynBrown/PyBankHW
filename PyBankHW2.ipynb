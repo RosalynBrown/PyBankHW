{
 "cells": [
  {
   "cell_type": "code",
   "execution_count": 3,
   "metadata": {},
   "outputs": [],
   "source": [
    "import pandas as pd\n",
    "from pathlib import Path\n",
    "csvpath = Path(\"Resources/budget_data.csv\")\n",
    "import os\n",
    "import csv\n",
    "import math"
   ]
  },
  {
   "cell_type": "code",
   "execution_count": 17,
   "metadata": {},
   "outputs": [],
   "source": [
    "Date = []\n",
    "profit_loss = []\n",
    "month_list=[]\n",
    "\n",
    "with open(csvpath, \"r\") as csvfile:\n",
    "    next(csvfile) # skip header line\n",
    "    csvreader=csv.reader(csvfile,delimiter=',')\n",
    "    for row in csvreader:\n",
    "        Date.append(row[0])\n",
    "        profit_loss.append(int(row[1]))\n",
    "        month_list.append(row[0])\n",
    "\n",
    "\n",
    "total_months = len(Date)\n",
    "total_profit_loss = sum(profit_loss)"
   ]
  },
  {
   "cell_type": "code",
   "execution_count": 9,
   "metadata": {},
   "outputs": [
    {
     "name": "stdout",
     "output_type": "stream",
     "text": [
      "[867884, 984655, 322013, -69417, 310503, 522857, 1033096, 604885, -216386, 477532, 893810, -80353, 779806, -335203, 697845, 793163, 485070, 584122, 62729, 668179, 899906, 834719, 132003, 309978, -755566, 1170593, 252788, 1151518, 817256, 570757, 506702, -1022534, 475062, 779976, 144175, 542494, 359333, 321469, 67780, 471435, 565603, 872480, 789480, 999942, -1196225, 268997, -687986, 1150461, 682458, 617856, 824098, 581943, 132864, 448062, 689161, 800701, 1166643, 947333, 578668, 988505, 1139715, 1029471, 687533, -524626, 158620, 87795, 423389, 840723, 568529, 332067, 989499, 778237, 650000, -1100387, -174946, 757143, 445709, 712961, -1163797, 569899, 768450, 102685, 795914, 60988, 138230, 671099]\n"
     ]
    }
   ],
   "source": [
    "print(profit_loss)"
   ]
  },
  {
   "cell_type": "code",
   "execution_count": 6,
   "metadata": {},
   "outputs": [
    {
     "name": "stdout",
     "output_type": "stream",
     "text": [
      "[116771, -662642, -391430, 379920, 212354, 510239, -428211, -821271, 693918, 416278, -974163, 860159, -1115009, 1033048, 95318, -308093, 99052, -521393, 605450, 231727, -65187, -702716, 177975, -1065544, 1926159, -917805, 898730, -334262, -246499, -64055, -1529236, 1497596, 304914, -635801, 398319, -183161, -37864, -253689, 403655, 94168, 306877, -83000, 210462, -2196167, 1465222, -956983, 1838447, -468003, -64602, 206242, -242155, -449079, 315198, 241099, 111540, 365942, -219310, -368665, 409837, 151210, -110244, -341938, -1212159, 683246, -70825, 335594, 417334, -272194, -236462, 657432, -211262, -128237, -1750387, 925441, 932089, -311434, 267252, -1876758, 1733696, 198551, -665765, 693229, -734926, 77242, 532869]\n"
     ]
    }
   ],
   "source": [
    "profit_loss[1]-profit_loss[0]\n",
    "profit_loss[2]-profit_loss[1]\n",
    "\n",
    "profit_loss[85]-profit_loss[84]\n",
    "diff_pnl = []\n",
    "for x in range (1,len(profit_loss)):\n",
    "    diff_pnl.append(profit_loss[x]-profit_loss[x-1])\n",
    "\n",
    "print(diff_pnl)\n",
    "\n",
    "#Avg Mthly\n",
    "net_monthly_avg = round(sum(diff_pnl)/len(diff_pnl))\n",
    "\n"
   ]
  },
  {
   "cell_type": "code",
   "execution_count": 8,
   "metadata": {},
   "outputs": [],
   "source": [
    "greatest_increase = max(diff_pnl)\n",
    "greatest_decrease = min(diff_pnl)"
   ]
  },
  {
   "cell_type": "code",
   "execution_count": 19,
   "metadata": {},
   "outputs": [
    {
     "name": "stdout",
     "output_type": "stream",
     "text": [
      "24\n"
     ]
    },
    {
     "data": {
      "text/plain": [
       "'Feb-2012'"
      ]
     },
     "execution_count": 19,
     "metadata": {},
     "output_type": "execute_result"
    }
   ],
   "source": [
    "for idx in range(len(diff_pnl)): #[0, 1, 2, 3, ...]\n",
    "    if diff_pnl[idx]==greatest_increase: \n",
    "        max_int=idx\n",
    "print(max_int)\n",
    "month_list[25]"
   ]
  },
  {
   "cell_type": "code",
   "execution_count": 22,
   "metadata": {},
   "outputs": [
    {
     "data": {
      "text/plain": [
       "1926159"
      ]
     },
     "execution_count": 22,
     "metadata": {},
     "output_type": "execute_result"
    }
   ],
   "source": [
    "current_max=0\n",
    "for idx in range(len(diff_pnl)): \n",
    "    current_number=diff_pnl[idx] # assign the value of list at index to current_number\n",
    "    if current_number > current_max: # check if current number > current max\n",
    "        current_max=current_number # found a new max \n",
    "    # else current max is still max\n",
    "current_max"
   ]
  },
  {
   "cell_type": "code",
   "execution_count": null,
   "metadata": {},
   "outputs": [],
   "source": [
    "for diff_pnl in list\n",
    "    if 0 > 1\n",
    "for every number in list iterate through eac number: \n",
    "    if icurrent number > max: \n",
    "        then we found a new max\n",
    "    else: \n",
    "        max is still max"
   ]
  },
  {
   "cell_type": "code",
   "execution_count": 9,
   "metadata": {},
   "outputs": [
    {
     "data": {
      "text/plain": [
       "38382578"
      ]
     },
     "execution_count": 9,
     "metadata": {},
     "output_type": "execute_result"
    }
   ],
   "source": [
    "sum(profit_loss)"
   ]
  },
  {
   "cell_type": "code",
   "execution_count": 10,
   "metadata": {},
   "outputs": [
    {
     "name": "stdout",
     "output_type": "stream",
     "text": [
      "Financial Analysis\n",
      "-----------------------------\n",
      "Total Months: 86\n",
      "Total:$ 38382578\n",
      "Average Change:$ -2315\n",
      "Greatest Increase in Profits: 1926159\n",
      "Greatest Decrease in Profits: -2196167\n"
     ]
    }
   ],
   "source": [
    "print('Financial Analysis')\n",
    "print('-----------------------------')\n",
    "print(\"Total Months:\" , total_months)\n",
    "print(\"Total:\"  \"$\",total_profit_loss)\n",
    "print('Average Change:' \"$\"  ,net_monthly_avg)\n",
    "print('Greatest Increase in Profits:' , greatest_increase)\n",
    "print('Greatest Decrease in Profits:', greatest_decrease)\n"
   ]
  },
  {
   "cell_type": "code",
   "execution_count": null,
   "metadata": {},
   "outputs": [],
   "source": []
  }
 ],
 "metadata": {
  "kernelspec": {
   "display_name": "Python 3",
   "language": "python",
   "name": "python3"
  },
  "language_info": {
   "codemirror_mode": {
    "name": "ipython",
    "version": 3
   },
   "file_extension": ".py",
   "mimetype": "text/x-python",
   "name": "python",
   "nbconvert_exporter": "python",
   "pygments_lexer": "ipython3",
   "version": "3.8.5"
  }
 },
 "nbformat": 4,
 "nbformat_minor": 4
}
